{
 "cells": [
  {
   "cell_type": "markdown",
   "id": "4a252fc0",
   "metadata": {},
   "source": [
    "# Scrapping NEWS from websites "
   ]
  },
  {
   "cell_type": "markdown",
   "id": "d2d90ccf",
   "metadata": {},
   "source": [
    "# "
   ]
  },
  {
   "cell_type": "code",
   "execution_count": 1,
   "id": "bf5e2f82",
   "metadata": {},
   "outputs": [],
   "source": [
    "from bs4 import BeautifulSoup as soup\n",
    "import requests\n",
    "import pandas as pd"
   ]
  },
  {
   "cell_type": "markdown",
   "id": "7559f505",
   "metadata": {},
   "source": [
    "# "
   ]
  },
  {
   "cell_type": "markdown",
   "id": "488f545b",
   "metadata": {},
   "source": [
    "# Scrapping from THE HINDU website"
   ]
  },
  {
   "cell_type": "markdown",
   "id": "ba8420f5",
   "metadata": {},
   "source": [
    "## "
   ]
  },
  {
   "cell_type": "code",
   "execution_count": 2,
   "id": "7a2fd852",
   "metadata": {},
   "outputs": [],
   "source": [
    "r=requests.get(\"https://www.thehindu.com/news/cities/chennai/\")\n",
    "b=soup(r.content)"
   ]
  },
  {
   "cell_type": "code",
   "execution_count": 4,
   "id": "ab6c9257",
   "metadata": {},
   "outputs": [],
   "source": [
    "link=[]\n",
    "for i in b.findAll('h3',{\"class\":\"title\"}):\n",
    "    link.append(i.a['href'])"
   ]
  },
  {
   "cell_type": "code",
   "execution_count": 6,
   "id": "e7d4a986",
   "metadata": {},
   "outputs": [],
   "source": [
    "news={\"title\":[],\"news\":[]}\n",
    "for i in link:\n",
    "    req=requests.get(i)\n",
    "    blog=soup(req.content)\n",
    "    for h in blog.findAll(\"h1\"):\n",
    "        news['title'].append(h.text)\n",
    "    for h in blog.findAll('p'):\n",
    "        a=(h.text.strip())\n",
    "    news[\"news\"].append(a)"
   ]
  },
  {
   "cell_type": "code",
   "execution_count": 8,
   "id": "fe177467",
   "metadata": {},
   "outputs": [],
   "source": [
    "news = pd.DataFrame.from_dict(news)"
   ]
  },
  {
   "cell_type": "code",
   "execution_count": 9,
   "id": "c6b1979c",
   "metadata": {},
   "outputs": [
    {
     "data": {
      "text/html": [
       "<div>\n",
       "<style scoped>\n",
       "    .dataframe tbody tr th:only-of-type {\n",
       "        vertical-align: middle;\n",
       "    }\n",
       "\n",
       "    .dataframe tbody tr th {\n",
       "        vertical-align: top;\n",
       "    }\n",
       "\n",
       "    .dataframe thead th {\n",
       "        text-align: right;\n",
       "    }\n",
       "</style>\n",
       "<table border=\"1\" class=\"dataframe\">\n",
       "  <thead>\n",
       "    <tr style=\"text-align: right;\">\n",
       "      <th></th>\n",
       "      <th>title</th>\n",
       "      <th>news</th>\n",
       "    </tr>\n",
       "  </thead>\n",
       "  <tbody>\n",
       "    <tr>\n",
       "      <th>0</th>\n",
       "      <td>\\nTwo motorists killed in separate accidents i...</td>\n",
       "      <td>We have migrated to a new commenting platform....</td>\n",
       "    </tr>\n",
       "    <tr>\n",
       "      <th>1</th>\n",
       "      <td>\\nKauvery Hospital organises run to spread awa...</td>\n",
       "      <td>We have migrated to a new commenting platform....</td>\n",
       "    </tr>\n",
       "    <tr>\n",
       "      <th>2</th>\n",
       "      <td>\\nOver 90 species of birds spotted in city\\n</td>\n",
       "      <td>We have migrated to a new commenting platform....</td>\n",
       "    </tr>\n",
       "    <tr>\n",
       "      <th>3</th>\n",
       "      <td>\\n5-year-old girl dies after iron gate falls o...</td>\n",
       "      <td>We have migrated to a new commenting platform....</td>\n",
       "    </tr>\n",
       "    <tr>\n",
       "      <th>4</th>\n",
       "      <td>\\nCity to have 30,000 new digitally printed st...</td>\n",
       "      <td>We have migrated to a new commenting platform....</td>\n",
       "    </tr>\n",
       "  </tbody>\n",
       "</table>\n",
       "</div>"
      ],
      "text/plain": [
       "                                               title  \\\n",
       "0  \\nTwo motorists killed in separate accidents i...   \n",
       "1  \\nKauvery Hospital organises run to spread awa...   \n",
       "2       \\nOver 90 species of birds spotted in city\\n   \n",
       "3  \\n5-year-old girl dies after iron gate falls o...   \n",
       "4  \\nCity to have 30,000 new digitally printed st...   \n",
       "\n",
       "                                                news  \n",
       "0  We have migrated to a new commenting platform....  \n",
       "1  We have migrated to a new commenting platform....  \n",
       "2  We have migrated to a new commenting platform....  \n",
       "3  We have migrated to a new commenting platform....  \n",
       "4  We have migrated to a new commenting platform....  "
      ]
     },
     "execution_count": 9,
     "metadata": {},
     "output_type": "execute_result"
    }
   ],
   "source": [
    "news.head(5)"
   ]
  },
  {
   "cell_type": "markdown",
   "id": "5c7c3693",
   "metadata": {},
   "source": [
    "# "
   ]
  },
  {
   "cell_type": "markdown",
   "id": "bf8bf016",
   "metadata": {},
   "source": [
    "# Scrapping from INDIA TODAY  website"
   ]
  },
  {
   "cell_type": "markdown",
   "id": "e9e10482",
   "metadata": {},
   "source": [
    "# "
   ]
  },
  {
   "cell_type": "code",
   "execution_count": 10,
   "id": "8517f893",
   "metadata": {},
   "outputs": [],
   "source": [
    "r=requests.get(\"https://www.indiatoday.in/cities/chennai-news\")\n",
    "b=soup(r.content)"
   ]
  },
  {
   "cell_type": "code",
   "execution_count": 12,
   "id": "4b9a3528",
   "metadata": {},
   "outputs": [],
   "source": [
    "link=[]\n",
    "for i in b.findAll('div',{\"class\":\"B1S3_content__wrap__9mSB6\"}):\n",
    "    a=\"https://www.indiatoday.in\"+(i.a['href'])\n",
    "    link.append(a)"
   ]
  },
  {
   "cell_type": "code",
   "execution_count": 16,
   "id": "454d4845",
   "metadata": {},
   "outputs": [],
   "source": [
    "news={\"title\":[],\"news\":[]}\n",
    "for i in link:\n",
    "    req=requests.get(i)\n",
    "    blog=soup(req.content)\n",
    "    for h in blog.findAll(\"h1\"):\n",
    "        news['title'].append(h.text)\n",
    "    for h in blog.findAll('div',{'class':'jsx-99cc083358cc2e2d Story_description__fq_4S description'}):\n",
    "        a=(h.text.strip())\n",
    "    news[\"news\"].append(a)"
   ]
  },
  {
   "cell_type": "code",
   "execution_count": 21,
   "id": "9758f177",
   "metadata": {},
   "outputs": [],
   "source": [
    "news = pd.DataFrame.from_dict(news)"
   ]
  },
  {
   "cell_type": "code",
   "execution_count": 22,
   "id": "2a91fbeb",
   "metadata": {},
   "outputs": [
    {
     "data": {
      "text/html": [
       "<div>\n",
       "<style scoped>\n",
       "    .dataframe tbody tr th:only-of-type {\n",
       "        vertical-align: middle;\n",
       "    }\n",
       "\n",
       "    .dataframe tbody tr th {\n",
       "        vertical-align: top;\n",
       "    }\n",
       "\n",
       "    .dataframe thead th {\n",
       "        text-align: right;\n",
       "    }\n",
       "</style>\n",
       "<table border=\"1\" class=\"dataframe\">\n",
       "  <thead>\n",
       "    <tr style=\"text-align: right;\">\n",
       "      <th></th>\n",
       "      <th>title</th>\n",
       "      <th>news</th>\n",
       "    </tr>\n",
       "  </thead>\n",
       "  <tbody>\n",
       "    <tr>\n",
       "      <th>0</th>\n",
       "      <td>Chennai techie dies after wall of dilapidated ...</td>\n",
       "      <td>By Shilpa Nair: A 22-year-old woman died in Ch...</td>\n",
       "    </tr>\n",
       "    <tr>\n",
       "      <th>1</th>\n",
       "      <td>Metro bus conductor suspended in Chennai for b...</td>\n",
       "      <td>By Pramod Madhav: A Chennai Metro bus conducto...</td>\n",
       "    </tr>\n",
       "    <tr>\n",
       "      <th>2</th>\n",
       "      <td>Joy of Jallikattu: Tamil Nadu decks up for cen...</td>\n",
       "      <td>By Pramod Madhav: A Chennai Metro bus conducto...</td>\n",
       "    </tr>\n",
       "    <tr>\n",
       "      <th>3</th>\n",
       "      <td>Tamil Nadu Governor RN Ravi walks out of Assem...</td>\n",
       "      <td>By India Today Web Desk: Tamil Nadu Governor R...</td>\n",
       "    </tr>\n",
       "    <tr>\n",
       "      <th>4</th>\n",
       "      <td>Race car driver in Chennai dies after losing c...</td>\n",
       "      <td>By Pramod Madhav: A professional car racer fro...</td>\n",
       "    </tr>\n",
       "  </tbody>\n",
       "</table>\n",
       "</div>"
      ],
      "text/plain": [
       "                                               title  \\\n",
       "0  Chennai techie dies after wall of dilapidated ...   \n",
       "1  Metro bus conductor suspended in Chennai for b...   \n",
       "2  Joy of Jallikattu: Tamil Nadu decks up for cen...   \n",
       "3  Tamil Nadu Governor RN Ravi walks out of Assem...   \n",
       "4  Race car driver in Chennai dies after losing c...   \n",
       "\n",
       "                                                news  \n",
       "0  By Shilpa Nair: A 22-year-old woman died in Ch...  \n",
       "1  By Pramod Madhav: A Chennai Metro bus conducto...  \n",
       "2  By Pramod Madhav: A Chennai Metro bus conducto...  \n",
       "3  By India Today Web Desk: Tamil Nadu Governor R...  \n",
       "4  By Pramod Madhav: A professional car racer fro...  "
      ]
     },
     "execution_count": 22,
     "metadata": {},
     "output_type": "execute_result"
    }
   ],
   "source": [
    "news.head(5)"
   ]
  },
  {
   "cell_type": "markdown",
   "id": "8edb59d3",
   "metadata": {},
   "source": [
    "# "
   ]
  },
  {
   "cell_type": "markdown",
   "id": "7e4230a9",
   "metadata": {},
   "source": [
    "# Scrapping from NDTV  website"
   ]
  },
  {
   "cell_type": "markdown",
   "id": "ac91ee8c",
   "metadata": {},
   "source": [
    "# "
   ]
  },
  {
   "cell_type": "code",
   "execution_count": 23,
   "id": "2c273607",
   "metadata": {},
   "outputs": [],
   "source": [
    "r=requests.get(\"https://www.ndtv.com/chennai-news\")\n",
    "b=soup(r.content)"
   ]
  },
  {
   "cell_type": "code",
   "execution_count": 28,
   "id": "401fe05f",
   "metadata": {},
   "outputs": [],
   "source": [
    "link=[]\n",
    "for i in b.findAll('h2',{\"class\":\"newsHdng\"}):\n",
    "    link.append(i.a['href'])"
   ]
  },
  {
   "cell_type": "code",
   "execution_count": 32,
   "id": "4be50566",
   "metadata": {},
   "outputs": [],
   "source": [
    "news={\"title\":[],\"news\":[]}\n",
    "for i in link:\n",
    "    req=requests.get(i)\n",
    "    blog=soup(req.content)\n",
    "    for h in blog.findAll(\"h1\"):\n",
    "        news['title'].append(h.text)\n",
    "    for h in blog.findAll('div',{'class':'sp-cn ins_storybody'}):\n",
    "        a=(h.text.strip())\n",
    "    news[\"news\"].append(a)"
   ]
  },
  {
   "cell_type": "code",
   "execution_count": 35,
   "id": "62d880c4",
   "metadata": {},
   "outputs": [],
   "source": [
    "news = pd.DataFrame.from_dict(news)"
   ]
  },
  {
   "cell_type": "code",
   "execution_count": 36,
   "id": "c122492f",
   "metadata": {},
   "outputs": [
    {
     "data": {
      "text/html": [
       "<div>\n",
       "<style scoped>\n",
       "    .dataframe tbody tr th:only-of-type {\n",
       "        vertical-align: middle;\n",
       "    }\n",
       "\n",
       "    .dataframe tbody tr th {\n",
       "        vertical-align: top;\n",
       "    }\n",
       "\n",
       "    .dataframe thead th {\n",
       "        text-align: right;\n",
       "    }\n",
       "</style>\n",
       "<table border=\"1\" class=\"dataframe\">\n",
       "  <thead>\n",
       "    <tr style=\"text-align: right;\">\n",
       "      <th></th>\n",
       "      <th>title</th>\n",
       "      <th>news</th>\n",
       "    </tr>\n",
       "  </thead>\n",
       "  <tbody>\n",
       "    <tr>\n",
       "      <th>0</th>\n",
       "      <td>Our Struggle Against Hindi Imposition Will Co...</td>\n",
       "      <td>Tamil Nadu CM alleged that the BJP government ...</td>\n",
       "    </tr>\n",
       "    <tr>\n",
       "      <th>1</th>\n",
       "      <td>Judges' Appointment Body Pushes For Advocate ...</td>\n",
       "      <td>Advocate R John Sathyan has been recommended f...</td>\n",
       "    </tr>\n",
       "    <tr>\n",
       "      <th>2</th>\n",
       "      <td>Che Guevara's Daughter In Chennai To Attend C...</td>\n",
       "      <td>Aleida Guevara was accorded a warm welcome at ...</td>\n",
       "    </tr>\n",
       "    <tr>\n",
       "      <th>3</th>\n",
       "      <td>Rs 17,000-Crore Bengaluru-Chennai Expressway ...</td>\n",
       "      <td>\"By February 2023, the Bengaluru-Mysuru Highwa...</td>\n",
       "    </tr>\n",
       "    <tr>\n",
       "      <th>4</th>\n",
       "      <td>Chennai Police Arrest 2 DMK Members For Sexua...</td>\n",
       "      <td>The two accused have been arrested by police. ...</td>\n",
       "    </tr>\n",
       "  </tbody>\n",
       "</table>\n",
       "</div>"
      ],
      "text/plain": [
       "                                               title  \\\n",
       "0   Our Struggle Against Hindi Imposition Will Co...   \n",
       "1   Judges' Appointment Body Pushes For Advocate ...   \n",
       "2   Che Guevara's Daughter In Chennai To Attend C...   \n",
       "3   Rs 17,000-Crore Bengaluru-Chennai Expressway ...   \n",
       "4   Chennai Police Arrest 2 DMK Members For Sexua...   \n",
       "\n",
       "                                                news  \n",
       "0  Tamil Nadu CM alleged that the BJP government ...  \n",
       "1  Advocate R John Sathyan has been recommended f...  \n",
       "2  Aleida Guevara was accorded a warm welcome at ...  \n",
       "3  \"By February 2023, the Bengaluru-Mysuru Highwa...  \n",
       "4  The two accused have been arrested by police. ...  "
      ]
     },
     "execution_count": 36,
     "metadata": {},
     "output_type": "execute_result"
    }
   ],
   "source": [
    "news.head(5)"
   ]
  }
 ],
 "metadata": {
  "kernelspec": {
   "display_name": "Python 3 (ipykernel)",
   "language": "python",
   "name": "python3"
  },
  "language_info": {
   "codemirror_mode": {
    "name": "ipython",
    "version": 3
   },
   "file_extension": ".py",
   "mimetype": "text/x-python",
   "name": "python",
   "nbconvert_exporter": "python",
   "pygments_lexer": "ipython3",
   "version": "3.10.9"
  }
 },
 "nbformat": 4,
 "nbformat_minor": 5
}
